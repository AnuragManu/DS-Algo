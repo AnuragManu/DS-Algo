{
  "nbformat": 4,
  "nbformat_minor": 0,
  "metadata": {
    "colab": {
      "name": "DSA_ENDSEM.ipynb",
      "provenance": [],
      "authorship_tag": "ABX9TyOAd9HC4ApDtCCg6kIVaFfX",
      "include_colab_link": true
    },
    "kernelspec": {
      "name": "python3",
      "display_name": "Python 3"
    },
    "language_info": {
      "name": "python"
    }
  },
  "cells": [
    {
      "cell_type": "markdown",
      "metadata": {
        "id": "view-in-github",
        "colab_type": "text"
      },
      "source": [
        "<a href=\"https://colab.research.google.com/github/AnuragManu/DS-Algo/blob/master/DSA_ENDSEM.ipynb\" target=\"_parent\"><img src=\"https://colab.research.google.com/assets/colab-badge.svg\" alt=\"Open In Colab\"/></a>"
      ]
    },
    {
      "cell_type": "markdown",
      "metadata": {
        "id": "9dRtmV95KKe2"
      },
      "source": [
        "Q3 n Q5 left incomplete\n",
        "Q4 Q6 Q7 Q8 left"
      ]
    },
    {
      "cell_type": "markdown",
      "metadata": {
        "id": "hAZdMYAT0tBk"
      },
      "source": [
        "##Q1"
      ]
    },
    {
      "cell_type": "code",
      "metadata": {
        "colab": {
          "base_uri": "https://localhost:8080/"
        },
        "id": "HnvuZjgA0r6n",
        "outputId": "efbe9e8d-a436-408b-9fbb-6889a73b794e"
      },
      "source": [
        "#initial list with duplicate elements \n",
        "l = [4,5,6,6,1,1,2,3,7,8,8]\n",
        "#final list with unique elements \n",
        "final=[]\n",
        "#sorting the list (O(nlogn))\n",
        "l.sort();\n",
        "\n",
        "for i in range(len(l)-1):\n",
        "    if(l[i]!=l[i+1]):\n",
        "        #apending the unique elements \n",
        "        final.append(l[i]);\n",
        "#printing the final result\n",
        "print (final)"
      ],
      "execution_count": 1,
      "outputs": [
        {
          "output_type": "stream",
          "name": "stdout",
          "text": [
            "[1, 2, 3, 4, 5, 6, 7]\n"
          ]
        }
      ]
    },
    {
      "cell_type": "markdown",
      "metadata": {
        "id": "7NZQTJ0g1EfM"
      },
      "source": [
        "##Q2\n",
        "\n",
        "\n",
        "Let there be d digits in input integers. Radix Sort takes O(d*(n+b)) time where b is the base for representing numbers, for example, for decimal system, b is 10. Since n2-1 is the maximum possible value, the value of d would be O(logb(n)). So overall time complexity is O((n+b)*O(logb(n)). Which looks more than the time complexity of comparison based sorting algorithms for a large k. The idea is to change base b. If we set b as n, the value of O(logb(n)) becomes O(1) and overall time complexity becomes O(n)."
      ]
    },
    {
      "cell_type": "code",
      "metadata": {
        "colab": {
          "base_uri": "https://localhost:8080/"
        },
        "id": "-Ers7uPF1HZE",
        "outputId": "ff02f1b9-0d5e-49a6-c0a8-309b05b2c1e5"
      },
      "source": [
        "def Sort(arr, n, exp):\n",
        "\tout = [0] * n # output array\n",
        "\tc = [0] * n\n",
        "\tfor i in range(n):\n",
        "\t\tc[i] = 0\n",
        "\n",
        "\t# Store count of occurrences in c[]\n",
        "\tfor i in range(n):\n",
        "\t\tc[ (arr[i] // exp) % n ] += 1\n",
        "\n",
        "\t# Change c[i] so that c[i] now contains actual position of this digit in out[]\n",
        "\tfor i in range(1, n):\n",
        "\t\tc[i] += c[i - 1]\n",
        "\n",
        "\t# Build the output array\n",
        "\tfor i in range(n - 1, -1, -1):\n",
        "\n",
        "\t\tout[c[ (arr[i] // exp) % n] - 1] = arr[i]\n",
        "\t\tc[(arr[i] // exp) % n] -= 1\n",
        "\n",
        "\t# Copy the output array to arr[], so that arr[] now contains sorted numbers according to current digit\n",
        "\tfor i in range(n):\n",
        "\t\tarr[i] = out[i]\n",
        "\n",
        "# The main function to that sorts arr[] of size n using Radix Sort\n",
        "def sort(arr, n) :\n",
        "\t\n",
        "\t# Instead of passing digit number,exp (n^0 = 1) is passed.\n",
        "\tSort(arr, n, 1)\n",
        "\n",
        "\t\n",
        "\t# exp (n^1 = n) is passed.\n",
        "\tSort(arr, n, n)\n",
        "\n",
        "# main function (entry point)\n",
        "if __name__ ==\"__main__\":\n",
        "\t\n",
        "\t# array with elements within range\n",
        "\tarr = [40, 12, 45, 32, 33, 1, 22]\n",
        "\tn = len(arr)\n",
        "\tprint(\"Initial array was\")\n",
        "\tprint(*arr)\n",
        "\t\n",
        "\tsort(arr, n)\n",
        "\t\n",
        "\tprint(\"Final Sorted array is\")\n",
        "\tprint(*arr)"
      ],
      "execution_count": 5,
      "outputs": [
        {
          "output_type": "stream",
          "name": "stdout",
          "text": [
            "Initial array was\n",
            "40 12 45 32 33 1 22\n",
            "Final Sorted array is\n",
            "1 12 22 32 33 40 45\n"
          ]
        }
      ]
    },
    {
      "cell_type": "markdown",
      "metadata": {
        "id": "a71wSnI2_hgu"
      },
      "source": [
        "##Q3"
      ]
    },
    {
      "cell_type": "code",
      "metadata": {
        "colab": {
          "base_uri": "https://localhost:8080/"
        },
        "id": "E03SrMHz_kRk",
        "outputId": "8ce1821d-90fa-4d94-a7b7-38115b563cd1"
      },
      "source": [
        "class ArrayStack:\n",
        "\t\"\"\"LIFO stack implementation using apython list as underlying storage\"\"\"\n",
        "\tdef __init__(self, maxlen=None):\n",
        "\t\tif maxlen:\n",
        "\t\t\tself._data = [None]*maxlen\n",
        "\t\telse:\n",
        "\t\t\tself._data = []\n",
        "\t\tself._maxlen = 10\n",
        "\n",
        "\tdef __len__(self):\n",
        "\t\treturn len(self._data)\n",
        "\n",
        "\tdef is_empty(self):\n",
        "\t\treturn len(self._data) == 0\n",
        "\n",
        "\tdef push(self, e):\n",
        "\t\tif len(self._data) >= self._maxlen:\n",
        "\t\t\traise Full('Stack is full')\n",
        "\t\tself._data.append(e)\n",
        "\n",
        "\tdef top(self):\n",
        "\t\tif self.is_empty():\n",
        "\t\t\traise Empty('Stack is empty')\n",
        "\t\treturn self._data[-1]\n",
        "\n",
        "\tdef pop(self):\n",
        "\t\tif self.is_empty():\n",
        "\t\t\traise Empty('Stack is empty')\n",
        "\t\treturn self._data.pop()\n",
        "\n",
        "\n",
        "\n",
        "\n",
        "stack = ArrayStack()\n",
        "\n",
        "orig_nums = 5\n",
        "for i in range(orig_nums):\n",
        "\tstack.push(i)\n",
        "permutations = []\n",
        "cursor = 0\n",
        "while cursor < orig_nums:\n",
        "\tnum = stack.pop()\n",
        "\tresult = [i for i in range(orig_nums)]\n",
        "\tfor i in range(orig_nums):\n",
        "\t\told = result[i]\n",
        "\t\tresult[i] = num\n",
        "\t\tresult[num] = old\n",
        "\t\tpermutations.append(result)\n",
        "\t\tresult = [idx for idx in range(orig_nums)]\n",
        "\n",
        "\tcursor += 1\n",
        "\n",
        "print(permutations)"
      ],
      "execution_count": 9,
      "outputs": [
        {
          "output_type": "stream",
          "name": "stdout",
          "text": [
            "[[4, 1, 2, 3, 0], [0, 4, 2, 3, 1], [0, 1, 4, 3, 2], [0, 1, 2, 4, 3], [0, 1, 2, 3, 4], [3, 1, 2, 0, 4], [0, 3, 2, 1, 4], [0, 1, 3, 2, 4], [0, 1, 2, 3, 4], [0, 1, 2, 4, 3], [2, 1, 0, 3, 4], [0, 2, 1, 3, 4], [0, 1, 2, 3, 4], [0, 1, 3, 2, 4], [0, 1, 4, 3, 2], [1, 0, 2, 3, 4], [0, 1, 2, 3, 4], [0, 2, 1, 3, 4], [0, 3, 2, 1, 4], [0, 4, 2, 3, 1], [0, 1, 2, 3, 4], [1, 0, 2, 3, 4], [2, 1, 0, 3, 4], [3, 1, 2, 0, 4], [4, 1, 2, 3, 0]]\n"
          ]
        }
      ]
    },
    {
      "cell_type": "markdown",
      "metadata": {
        "id": "ayd1_AVxGruq"
      },
      "source": [
        "##Q5\n",
        "\n",
        "Approach: A common intuition would be to take coins with greater value first. This can reduce the total number of coins needed. Start from the largest possible denomination and keep adding denominations while the remaining value is greater than 0. \n",
        "\n",
        "Algorithm:  \n",
        "\n",
        "1. Sort the array of coins in decreasing order.\n",
        "2. Initialize result as empty.\n",
        "3. Find the largest denomination that is smaller than current amount.\n",
        "4. Add found denomination to result. Subtract value of found denomination from amount.\n",
        "5. If amount becomes 0, then print result.\n",
        "6. Else repeat steps 3 and 4 for new value of V."
      ]
    },
    {
      "cell_type": "code",
      "metadata": {
        "id": "IR7sB2xhGun5"
      },
      "source": [
        "def findMin(V):\n",
        "\t\n",
        "\t# All denominations \n",
        "\tdeno = [1, 2, 5, 10, 20, 50,\n",
        "\t\t\t100, 500, 1000]\n",
        "\tn = len(deno)\n",
        "\t\n",
        "\t# Initialize Result\n",
        "\tans = []\n",
        "\n",
        "\t# Traverse through all denomination\n",
        "\ti = n - 1\n",
        "\twhile(i >= 0):\n",
        "\t\t\n",
        "\t\t# Find denominations\n",
        "\t\twhile (V >= deno[i]):\n",
        "\t\t\tV -= deno[i]\n",
        "\t\t\tans.append(deno[i])\n",
        "\n",
        "\t\ti -= 1\n",
        "\n",
        "\t# Print result\n",
        "\tfor i in range(len(ans)):\n",
        "\t\tprint(ans[i], end = \" \")\n",
        "\n",
        "# Driver Code\n",
        "if __name__ == '__main__':\n",
        "\tn = 93\n",
        "\tprint(\"Following is minimal number\",\n",
        "\t\t\"of change for\", n, \": \", end = \"\")\n",
        "\tfindMin(n)"
      ],
      "execution_count": null,
      "outputs": []
    }
  ]
}